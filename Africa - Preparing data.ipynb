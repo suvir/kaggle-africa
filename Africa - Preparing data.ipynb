{
 "metadata": {
  "name": "",
  "signature": "sha256:e6b636ea3b458bb3059a49239155a20f897de01b26e06c6000b8a3e28cb4e2e7"
 },
 "nbformat": 3,
 "nbformat_minor": 0,
 "worksheets": [
  {
   "cells": [
    {
     "cell_type": "code",
     "collapsed": false,
     "input": [
      "import pandas as pd\n",
      "import numpy as np\n",
      "import math"
     ],
     "language": "python",
     "metadata": {},
     "outputs": [],
     "prompt_number": 1
    },
    {
     "cell_type": "code",
     "collapsed": false,
     "input": [
      "from sklearn.linear_model import LinearRegression\n",
      "from sklearn.linear_model import Ridge\n",
      "from sklearn.linear_model import Lasso\n",
      "from sklearn import svm"
     ],
     "language": "python",
     "metadata": {},
     "outputs": [],
     "prompt_number": 29
    },
    {
     "cell_type": "code",
     "collapsed": false,
     "input": [
      "training = pd.read_csv('../africa-data/training.csv')\n",
      "test = pd.read_csv('../africa-data/sorted_test.csv')\n",
      "print \"rows\",len(training),len(test)\n",
      "print \"columns\",len(training.columns),len(test.columns)\n",
      "print \"target variables\",len(training.columns)-len(set(training.columns).intersection(test.columns))"
     ],
     "language": "python",
     "metadata": {},
     "outputs": [
      {
       "output_type": "stream",
       "stream": "stdout",
       "text": [
        "rows 1157 727\n",
        "columns 3600 3595\n",
        "target variables 5\n"
       ]
      }
     ],
     "prompt_number": 3
    },
    {
     "cell_type": "markdown",
     "metadata": {},
     "source": [
      "##Target Variables"
     ]
    },
    {
     "cell_type": "code",
     "collapsed": false,
     "input": [
      "training[['SOC', 'pH', 'Ca', 'P', 'Sand']].describe()"
     ],
     "language": "python",
     "metadata": {},
     "outputs": [
      {
       "html": [
        "<div style=\"max-height:1000px;max-width:1500px;overflow:auto;\">\n",
        "<table border=\"1\" class=\"dataframe\">\n",
        "  <thead>\n",
        "    <tr style=\"text-align: right;\">\n",
        "      <th></th>\n",
        "      <th>SOC</th>\n",
        "      <th>pH</th>\n",
        "      <th>Ca</th>\n",
        "      <th>P</th>\n",
        "      <th>Sand</th>\n",
        "    </tr>\n",
        "  </thead>\n",
        "  <tbody>\n",
        "    <tr>\n",
        "      <th>count</th>\n",
        "      <td> 1157.000000</td>\n",
        "      <td> 1157.000000</td>\n",
        "      <td> 1157.000000</td>\n",
        "      <td> 1157.000000</td>\n",
        "      <td> 1157.000000</td>\n",
        "    </tr>\n",
        "    <tr>\n",
        "      <th>mean</th>\n",
        "      <td>    0.080414</td>\n",
        "      <td>   -0.028543</td>\n",
        "      <td>    0.006442</td>\n",
        "      <td>   -0.014524</td>\n",
        "      <td>   -0.012646</td>\n",
        "    </tr>\n",
        "    <tr>\n",
        "      <th>std</th>\n",
        "      <td>    1.141989</td>\n",
        "      <td>    0.920224</td>\n",
        "      <td>    1.070541</td>\n",
        "      <td>    0.995469</td>\n",
        "      <td>    0.988520</td>\n",
        "    </tr>\n",
        "    <tr>\n",
        "      <th>min</th>\n",
        "      <td>   -0.857863</td>\n",
        "      <td>   -1.886946</td>\n",
        "      <td>   -0.535828</td>\n",
        "      <td>   -0.418309</td>\n",
        "      <td>   -1.493378</td>\n",
        "    </tr>\n",
        "    <tr>\n",
        "      <th>25%</th>\n",
        "      <td>   -0.615639</td>\n",
        "      <td>   -0.717841</td>\n",
        "      <td>   -0.451077</td>\n",
        "      <td>   -0.345681</td>\n",
        "      <td>   -0.899649</td>\n",
        "    </tr>\n",
        "    <tr>\n",
        "      <th>50%</th>\n",
        "      <td>   -0.349974</td>\n",
        "      <td>   -0.175376</td>\n",
        "      <td>   -0.348682</td>\n",
        "      <td>   -0.269595</td>\n",
        "      <td>   -0.134651</td>\n",
        "    </tr>\n",
        "    <tr>\n",
        "      <th>75%</th>\n",
        "      <td>    0.275121</td>\n",
        "      <td>    0.376442</td>\n",
        "      <td>   -0.042654</td>\n",
        "      <td>   -0.089755</td>\n",
        "      <td>    0.786391</td>\n",
        "    </tr>\n",
        "    <tr>\n",
        "      <th>max</th>\n",
        "      <td>    7.619989</td>\n",
        "      <td>    3.416117</td>\n",
        "      <td>    9.645815</td>\n",
        "      <td>   13.266841</td>\n",
        "      <td>    2.251685</td>\n",
        "    </tr>\n",
        "  </tbody>\n",
        "</table>\n",
        "<p>8 rows \u00d7 5 columns</p>\n",
        "</div>"
       ],
       "metadata": {},
       "output_type": "pyout",
       "prompt_number": 4,
       "text": [
        "               SOC           pH           Ca            P         Sand\n",
        "count  1157.000000  1157.000000  1157.000000  1157.000000  1157.000000\n",
        "mean      0.080414    -0.028543     0.006442    -0.014524    -0.012646\n",
        "std       1.141989     0.920224     1.070541     0.995469     0.988520\n",
        "min      -0.857863    -1.886946    -0.535828    -0.418309    -1.493378\n",
        "25%      -0.615639    -0.717841    -0.451077    -0.345681    -0.899649\n",
        "50%      -0.349974    -0.175376    -0.348682    -0.269595    -0.134651\n",
        "75%       0.275121     0.376442    -0.042654    -0.089755     0.786391\n",
        "max       7.619989     3.416117     9.645815    13.266841     2.251685\n",
        "\n",
        "[8 rows x 5 columns]"
       ]
      }
     ],
     "prompt_number": 4
    },
    {
     "cell_type": "markdown",
     "metadata": {},
     "source": [
      "##Some useful functions"
     ]
    },
    {
     "cell_type": "code",
     "collapsed": false,
     "input": [
      "def transform_depth(df):\n",
      "    depth = []\n",
      "    depth_dict = {}\n",
      "    depth_dict['Topsoil']=1.0\n",
      "    depth_dict['Subsoil']=0.0\n",
      "    for i in df.index:\n",
      "        depth_val = df.ix[i]['Depth']        \n",
      "        depth.append(depth_dict[depth_val])\n",
      "    df['Depth']=pd.Series(depth)\n",
      "    return df\n",
      "\n",
      "def change_index(df,colname):\n",
      "    df = df.set_index(colname)\n",
      "    df.index.names = [None]\n",
      "    return df"
     ],
     "language": "python",
     "metadata": {},
     "outputs": [],
     "prompt_number": 5
    },
    {
     "cell_type": "markdown",
     "metadata": {},
     "source": [
      "##Preparing data"
     ]
    },
    {
     "cell_type": "markdown",
     "metadata": {},
     "source": [
      "## Depth is a string label field. Converting to numeric."
     ]
    },
    {
     "cell_type": "code",
     "collapsed": false,
     "input": [
      "training = transform_depth(training)"
     ],
     "language": "python",
     "metadata": {},
     "outputs": [],
     "prompt_number": 6
    },
    {
     "cell_type": "code",
     "collapsed": false,
     "input": [
      "test = transform_depth(test)"
     ],
     "language": "python",
     "metadata": {},
     "outputs": [],
     "prompt_number": 7
    },
    {
     "cell_type": "markdown",
     "metadata": {},
     "source": [
      "### Seperating training data for each target variable"
     ]
    },
    {
     "cell_type": "code",
     "collapsed": false,
     "input": [
      "feature_columns = [i for i in training.columns if i not in ['PIDN','SOC','pH','Ca','P','Sand']]"
     ],
     "language": "python",
     "metadata": {},
     "outputs": [],
     "prompt_number": 8
    },
    {
     "cell_type": "code",
     "collapsed": false,
     "input": [
      "X = training[feature_columns]"
     ],
     "language": "python",
     "metadata": {},
     "outputs": [],
     "prompt_number": 9
    },
    {
     "cell_type": "code",
     "collapsed": false,
     "input": [
      "Y={}\n",
      "Y['SOC'] = training[['SOC']]\n",
      "Y['pH'] =  training[['pH']]\n",
      "Y['Ca'] = training[['Ca']]\n",
      "Y['P'] = training[['P']]\n",
      "Y['Sand'] = training[['Sand']]"
     ],
     "language": "python",
     "metadata": {},
     "outputs": [],
     "prompt_number": 10
    },
    {
     "cell_type": "markdown",
     "metadata": {},
     "source": [
      "###Converting all data frames to numpy matrices"
     ]
    },
    {
     "cell_type": "code",
     "collapsed": false,
     "input": [
      "X = X.as_matrix()"
     ],
     "language": "python",
     "metadata": {},
     "outputs": [],
     "prompt_number": 11
    },
    {
     "cell_type": "code",
     "collapsed": false,
     "input": [
      "for k in Y:\n",
      "    Y[k]=Y[k].as_matrix()"
     ],
     "language": "python",
     "metadata": {},
     "outputs": [],
     "prompt_number": 12
    },
    {
     "cell_type": "markdown",
     "metadata": {},
     "source": [
      "###Splitting the training data"
     ]
    },
    {
     "cell_type": "code",
     "collapsed": false,
     "input": [
      "trainN = int(math.ceil(abs(0.8*X.shape[0])))\n",
      "#Split data\n",
      "trainX = X[:trainN,:]\n",
      "trainY = {}\n",
      "for k in Y:\n",
      "    trainY[k] = Y[k][:trainN]\n",
      "\n",
      "validationX = X[trainN+1:,:]\n",
      "\n",
      "validationY={}\n",
      "for k in Y:\n",
      "    validationY[k] = Y[k][trainN+1:]\n",
      "\n",
      "#Randomize rows\n",
      "rng = np.random.RandomState(4) #Reproducible result\n",
      "indices = np.arange(trainN)\n",
      "rng.shuffle(indices)\n",
      "trainX_random = trainX[indices]\n",
      "\n",
      "trainY_random = {}\n",
      "for k in trainY:\n",
      "    trainY_random[k] = trainY[k][indices]"
     ],
     "language": "python",
     "metadata": {},
     "outputs": [],
     "prompt_number": 13
    },
    {
     "cell_type": "markdown",
     "metadata": {},
     "source": [
      "##Processing test data"
     ]
    },
    {
     "cell_type": "code",
     "collapsed": false,
     "input": [
      "test = change_index(test,'PIDN')"
     ],
     "language": "python",
     "metadata": {},
     "outputs": [],
     "prompt_number": 14
    },
    {
     "cell_type": "markdown",
     "metadata": {},
     "source": [
      "### Making sure that there are no more string based fields"
     ]
    },
    {
     "cell_type": "code",
     "collapsed": false,
     "input": [
      "test[[i for i in test.columns if i.isalpha()]].describe()"
     ],
     "language": "python",
     "metadata": {},
     "outputs": [
      {
       "html": [
        "<div style=\"max-height:1000px;max-width:1500px;overflow:auto;\">\n",
        "<table border=\"1\" class=\"dataframe\">\n",
        "  <thead>\n",
        "    <tr style=\"text-align: right;\">\n",
        "      <th></th>\n",
        "      <th>BSAN</th>\n",
        "      <th>BSAS</th>\n",
        "      <th>BSAV</th>\n",
        "      <th>CTI</th>\n",
        "      <th>ELEV</th>\n",
        "      <th>EVI</th>\n",
        "      <th>LSTD</th>\n",
        "      <th>LSTN</th>\n",
        "      <th>RELI</th>\n",
        "      <th>TMAP</th>\n",
        "      <th>TMFI</th>\n",
        "      <th>Depth</th>\n",
        "    </tr>\n",
        "  </thead>\n",
        "  <tbody>\n",
        "    <tr>\n",
        "      <th>count</th>\n",
        "      <td> 727.000000</td>\n",
        "      <td> 727.000000</td>\n",
        "      <td> 727.000000</td>\n",
        "      <td> 727.000000</td>\n",
        "      <td> 727.000000</td>\n",
        "      <td> 727.000000</td>\n",
        "      <td> 727.000000</td>\n",
        "      <td> 727.000000</td>\n",
        "      <td> 727.000000</td>\n",
        "      <td> 727.000000</td>\n",
        "      <td> 727.000000</td>\n",
        "      <td> 727.000000</td>\n",
        "    </tr>\n",
        "    <tr>\n",
        "      <th>mean</th>\n",
        "      <td>  -0.617497</td>\n",
        "      <td>  -0.639852</td>\n",
        "      <td>  -0.671307</td>\n",
        "      <td>  -0.108035</td>\n",
        "      <td>   0.227325</td>\n",
        "      <td>   0.583861</td>\n",
        "      <td>  -0.364974</td>\n",
        "      <td>   0.269816</td>\n",
        "      <td>   0.084040</td>\n",
        "      <td>   0.545331</td>\n",
        "      <td>   0.703120</td>\n",
        "      <td>   0.506190</td>\n",
        "    </tr>\n",
        "    <tr>\n",
        "      <th>std</th>\n",
        "      <td>   0.256327</td>\n",
        "      <td>   0.276273</td>\n",
        "      <td>   0.307626</td>\n",
        "      <td>   0.791396</td>\n",
        "      <td>   1.152433</td>\n",
        "      <td>   0.727844</td>\n",
        "      <td>   0.835115</td>\n",
        "      <td>   0.883666</td>\n",
        "      <td>   0.941628</td>\n",
        "      <td>   0.682021</td>\n",
        "      <td>   0.787634</td>\n",
        "      <td>   0.500306</td>\n",
        "    </tr>\n",
        "    <tr>\n",
        "      <th>min</th>\n",
        "      <td>  -1.000000</td>\n",
        "      <td>  -1.036364</td>\n",
        "      <td>  -1.142217</td>\n",
        "      <td>  -1.001026</td>\n",
        "      <td>  -1.395768</td>\n",
        "      <td>  -0.800292</td>\n",
        "      <td>  -2.366282</td>\n",
        "      <td>  -1.760197</td>\n",
        "      <td>  -0.605844</td>\n",
        "      <td>  -0.541529</td>\n",
        "      <td>  -0.772670</td>\n",
        "      <td>   0.000000</td>\n",
        "    </tr>\n",
        "    <tr>\n",
        "      <th>25%</th>\n",
        "      <td>  -0.789855</td>\n",
        "      <td>  -0.818182</td>\n",
        "      <td>  -0.873460</td>\n",
        "      <td>  -0.477960</td>\n",
        "      <td>  -0.870156</td>\n",
        "      <td>   0.164723</td>\n",
        "      <td>  -1.046907</td>\n",
        "      <td>  -0.546596</td>\n",
        "      <td>  -0.401971</td>\n",
        "      <td>  -0.021042</td>\n",
        "      <td>   0.182431</td>\n",
        "      <td>   0.000000</td>\n",
        "    </tr>\n",
        "    <tr>\n",
        "      <th>50%</th>\n",
        "      <td>  -0.673913</td>\n",
        "      <td>  -0.718182</td>\n",
        "      <td>  -0.739082</td>\n",
        "      <td>  -0.321260</td>\n",
        "      <td>   0.336971</td>\n",
        "      <td>   0.507289</td>\n",
        "      <td>  -0.390770</td>\n",
        "      <td>   0.497065</td>\n",
        "      <td>  -0.266055</td>\n",
        "      <td>   0.501829</td>\n",
        "      <td>   0.774477</td>\n",
        "      <td>   1.000000</td>\n",
        "    </tr>\n",
        "    <tr>\n",
        "      <th>75%</th>\n",
        "      <td>  -0.528986</td>\n",
        "      <td>  -0.536364</td>\n",
        "      <td>  -0.537514</td>\n",
        "      <td>  -0.016621</td>\n",
        "      <td>   1.205568</td>\n",
        "      <td>   1.043003</td>\n",
        "      <td>   0.261494</td>\n",
        "      <td>   1.042551</td>\n",
        "      <td>   0.124703</td>\n",
        "      <td>   0.981483</td>\n",
        "      <td>   1.053572</td>\n",
        "      <td>   1.000000</td>\n",
        "    </tr>\n",
        "    <tr>\n",
        "      <th>max</th>\n",
        "      <td>   0.391304</td>\n",
        "      <td>   0.436364</td>\n",
        "      <td>   0.403136</td>\n",
        "      <td>   3.596526</td>\n",
        "      <td>   2.646548</td>\n",
        "      <td>   2.201895</td>\n",
        "      <td>   1.666615</td>\n",
        "      <td>   1.844185</td>\n",
        "      <td>   5.731226</td>\n",
        "      <td>   2.180246</td>\n",
        "      <td>   2.622005</td>\n",
        "      <td>   1.000000</td>\n",
        "    </tr>\n",
        "  </tbody>\n",
        "</table>\n",
        "<p>8 rows \u00d7 12 columns</p>\n",
        "</div>"
       ],
       "metadata": {},
       "output_type": "pyout",
       "prompt_number": 15,
       "text": [
        "             BSAN        BSAS        BSAV         CTI        ELEV         EVI  \\\n",
        "count  727.000000  727.000000  727.000000  727.000000  727.000000  727.000000   \n",
        "mean    -0.617497   -0.639852   -0.671307   -0.108035    0.227325    0.583861   \n",
        "std      0.256327    0.276273    0.307626    0.791396    1.152433    0.727844   \n",
        "min     -1.000000   -1.036364   -1.142217   -1.001026   -1.395768   -0.800292   \n",
        "25%     -0.789855   -0.818182   -0.873460   -0.477960   -0.870156    0.164723   \n",
        "50%     -0.673913   -0.718182   -0.739082   -0.321260    0.336971    0.507289   \n",
        "75%     -0.528986   -0.536364   -0.537514   -0.016621    1.205568    1.043003   \n",
        "max      0.391304    0.436364    0.403136    3.596526    2.646548    2.201895   \n",
        "\n",
        "             LSTD        LSTN        RELI        TMAP        TMFI       Depth  \n",
        "count  727.000000  727.000000  727.000000  727.000000  727.000000  727.000000  \n",
        "mean    -0.364974    0.269816    0.084040    0.545331    0.703120    0.506190  \n",
        "std      0.835115    0.883666    0.941628    0.682021    0.787634    0.500306  \n",
        "min     -2.366282   -1.760197   -0.605844   -0.541529   -0.772670    0.000000  \n",
        "25%     -1.046907   -0.546596   -0.401971   -0.021042    0.182431    0.000000  \n",
        "50%     -0.390770    0.497065   -0.266055    0.501829    0.774477    1.000000  \n",
        "75%      0.261494    1.042551    0.124703    0.981483    1.053572    1.000000  \n",
        "max      1.666615    1.844185    5.731226    2.180246    2.622005    1.000000  \n",
        "\n",
        "[8 rows x 12 columns]"
       ]
      }
     ],
     "prompt_number": 15
    },
    {
     "cell_type": "markdown",
     "metadata": {},
     "source": [
      "# Machine Learning"
     ]
    },
    {
     "cell_type": "markdown",
     "metadata": {},
     "source": [
      "## Linear Regression"
     ]
    },
    {
     "cell_type": "code",
     "collapsed": false,
     "input": [
      "targets = ['SOC', 'pH', 'Ca', 'P', 'Sand']\n",
      "models={}\n",
      "for t in targets:\n",
      "    models[t] = LinearRegression()\n",
      "    models[t].fit(trainX_random,trainY_random[t])\n",
      "    #make prediction on validation set\n",
      "    expected = validationY[t]\n",
      "    predicted = models[t].predict(validationX)\n",
      "    #Compute fit of model\n",
      "    mse = np.mean((predicted-expected)**2)\n",
      "    print t\n",
      "    print \"MSE\",mse\n",
      "    print \"Score\",models[t].score(validationX,validationY[t])"
     ],
     "language": "python",
     "metadata": {},
     "outputs": [
      {
       "output_type": "stream",
       "stream": "stdout",
       "text": [
        "SOC\n",
        "MSE 0.564884602238\n",
        "Score 0.336856690164\n",
        "pH"
       ]
      },
      {
       "output_type": "stream",
       "stream": "stdout",
       "text": [
        "\n",
        "MSE 1.67034183362\n",
        "Score -1.08338754864\n",
        "Ca"
       ]
      },
      {
       "output_type": "stream",
       "stream": "stdout",
       "text": [
        "\n",
        "MSE 0.725443241433\n",
        "Score -1.81489122559\n",
        "P"
       ]
      },
      {
       "output_type": "stream",
       "stream": "stdout",
       "text": [
        "\n",
        "MSE 9.05302432706\n",
        "Score -59.2564804249\n",
        "Sand"
       ]
      },
      {
       "output_type": "stream",
       "stream": "stdout",
       "text": [
        "\n",
        "MSE 0.604044811016\n",
        "Score 0.45871479226\n"
       ]
      }
     ],
     "prompt_number": 16
    },
    {
     "cell_type": "markdown",
     "metadata": {},
     "source": [
      "## Ridge Regression"
     ]
    },
    {
     "cell_type": "code",
     "collapsed": false,
     "input": [
      "targets = ['SOC', 'pH', 'Ca', 'P', 'Sand']\n",
      "models={}\n",
      "for t in targets:\n",
      "    models[t] = Ridge(alpha=0.1)\n",
      "    models[t].fit(trainX_random,trainY_random[t])\n",
      "    #make prediction on validation set\n",
      "    expected = validationY[t]\n",
      "    predicted = models[t].predict(validationX)\n",
      "    #Compute fit of model\n",
      "    mse = np.mean((predicted-expected)**2)\n",
      "    print t\n",
      "    print \"MSE\",mse\n",
      "    print \"Score\",models[t].score(validationX,validationY[t])"
     ],
     "language": "python",
     "metadata": {},
     "outputs": [
      {
       "output_type": "stream",
       "stream": "stdout",
       "text": [
        "SOC\n",
        "MSE 0.220449407717\n",
        "Score 0.741204576465\n",
        "pH"
       ]
      },
      {
       "output_type": "stream",
       "stream": "stdout",
       "text": [
        "\n",
        "MSE 0.3202171719\n",
        "Score 0.600598838293\n",
        "Ca"
       ]
      },
      {
       "output_type": "stream",
       "stream": "stdout",
       "text": [
        "\n",
        "MSE 0.0716539859865\n",
        "Score 0.721965599909\n",
        "P"
       ]
      },
      {
       "output_type": "stream",
       "stream": "stdout",
       "text": [
        "\n",
        "MSE 1.49526810291\n",
        "Score -8.95243025067\n",
        "Sand"
       ]
      },
      {
       "output_type": "stream",
       "stream": "stdout",
       "text": [
        "\n",
        "MSE 0.336160942977\n",
        "Score 0.698765815822\n"
       ]
      }
     ],
     "prompt_number": 17
    },
    {
     "cell_type": "markdown",
     "metadata": {},
     "source": [
      "##LASSO"
     ]
    },
    {
     "cell_type": "code",
     "collapsed": false,
     "input": [
      "targets = ['SOC', 'pH', 'Ca', 'P', 'Sand']\n",
      "models={}\n",
      "for t in targets:\n",
      "    models[t] = Lasso(alpha=0.1)\n",
      "    models[t].fit(trainX_random,trainY_random[t])\n",
      "    #make prediction on validation set\n",
      "    expected = validationY[t]\n",
      "    predicted = models[t].predict(validationX)\n",
      "    #Compute fit of model\n",
      "    mse = np.mean((predicted-expected)**2)\n",
      "    print t\n",
      "    print \"MSE\",mse\n",
      "    print \"Score\",models[t].score(validationX,validationY[t])"
     ],
     "language": "python",
     "metadata": {},
     "outputs": [
      {
       "output_type": "stream",
       "stream": "stdout",
       "text": [
        "SOC\n",
        "MSE 1.05863169266\n",
        "Score 0.345096305887\n",
        "pH"
       ]
      },
      {
       "output_type": "stream",
       "stream": "stdout",
       "text": [
        "\n",
        "MSE 0.908321660105\n",
        "Score 0.198771146008\n",
        "Ca"
       ]
      },
      {
       "output_type": "stream",
       "stream": "stdout",
       "text": [
        "\n",
        "MSE 0.697226977563\n",
        "Score -1.26494506033\n",
        "P"
       ]
      },
      {
       "output_type": "stream",
       "stream": "stdout",
       "text": [
        "\n",
        "MSE 0.231735983854\n",
        "Score -0.561446647347\n",
        "Sand"
       ]
      },
      {
       "output_type": "stream",
       "stream": "stdout",
       "text": [
        "\n",
        "MSE 1.27931017806\n",
        "Score 0.384722475582\n"
       ]
      }
     ],
     "prompt_number": 27
    },
    {
     "cell_type": "markdown",
     "metadata": {},
     "source": [
      "##Support Vector Regression"
     ]
    },
    {
     "cell_type": "code",
     "collapsed": false,
     "input": [
      "targets = ['SOC', 'pH', 'Ca', 'P', 'Sand']\n",
      "models={}\n",
      "for t in targets:\n",
      "    models[t] = SVR(kernel='linear',C=1.0,epsilon=0.2)\n",
      "    models[t].fit(trainX_random,trainY_random[t].ravel())\n",
      "    #make prediction on validation set\n",
      "    expected = validationY[t]\n",
      "    predicted = models[t].predict(validationX)\n",
      "    #Compute fit of model\n",
      "    mse = np.mean((predicted-expected)**2)\n",
      "    print t\n",
      "    print \"MSE\",mse\n",
      "    print \"Score\",models[t].score(validationX,validationY[t])"
     ],
     "language": "python",
     "metadata": {},
     "outputs": [
      {
       "output_type": "stream",
       "stream": "stdout",
       "text": [
        "SOC\n",
        "MSE 1.66344137311\n",
        "Score "
       ]
      },
      {
       "output_type": "stream",
       "stream": "stdout",
       "text": [
        "0.74295618746\n",
        "pH"
       ]
      },
      {
       "output_type": "stream",
       "stream": "stdout",
       "text": [
        "\n",
        "MSE 1.72054881074\n",
        "Score "
       ]
      },
      {
       "output_type": "stream",
       "stream": "stdout",
       "text": [
        "0.549816282494\n",
        "Ca"
       ]
      },
      {
       "output_type": "stream",
       "stream": "stdout",
       "text": [
        "\n",
        "MSE 0.612581587884\n",
        "Score "
       ]
      },
      {
       "output_type": "stream",
       "stream": "stdout",
       "text": [
        "0.747962126611\n",
        "P"
       ]
      },
      {
       "output_type": "stream",
       "stream": "stdout",
       "text": [
        "\n",
        "MSE 0.255941408249\n",
        "Score "
       ]
      },
      {
       "output_type": "stream",
       "stream": "stdout",
       "text": [
        "-0.577827861647\n",
        "Sand"
       ]
      },
      {
       "output_type": "stream",
       "stream": "stdout",
       "text": [
        "\n",
        "MSE 2.15961566499\n",
        "Score "
       ]
      },
      {
       "output_type": "stream",
       "stream": "stdout",
       "text": [
        "0.780635511285\n"
       ]
      }
     ],
     "prompt_number": 33
    },
    {
     "cell_type": "markdown",
     "metadata": {},
     "source": [
      "##Generating predictions for test data and submission"
     ]
    },
    {
     "cell_type": "code",
     "collapsed": false,
     "input": [
      "output_matrix = test.copy()\n",
      "predictions={}\n",
      "testX = output_matrix.as_matrix()\n",
      "for t in targets: \n",
      "    temp_prediction = models[t].predict(testX) \n",
      "    predictions[t] = pd.DataFrame(list(temp_prediction.ravel()),columns=[t])\n",
      "\n",
      "#Generating a single dataframe for submission\n",
      "for_lb = pd.concat([predictions[k] for k in predictions],axis=1)\n",
      "for_lb = for_lb.set_index(test.index)"
     ],
     "language": "python",
     "metadata": {},
     "outputs": [],
     "prompt_number": 19
    },
    {
     "cell_type": "code",
     "collapsed": false,
     "input": [
      "#Saving results to CSV\n",
      "#for_lb.to_csv('for_lb_LASSO_regression_simple.csv',cols=['Ca','P','pH','SOC','Sand'])"
     ],
     "language": "python",
     "metadata": {},
     "outputs": [],
     "prompt_number": 22
    },
    {
     "cell_type": "code",
     "collapsed": false,
     "input": [
      "for_lb.head()"
     ],
     "language": "python",
     "metadata": {},
     "outputs": [
      {
       "html": [
        "<div style=\"max-height:1000px;max-width:1500px;overflow:auto;\">\n",
        "<table border=\"1\" class=\"dataframe\">\n",
        "  <thead>\n",
        "    <tr style=\"text-align: right;\">\n",
        "      <th></th>\n",
        "      <th>Sand</th>\n",
        "      <th>P</th>\n",
        "      <th>SOC</th>\n",
        "      <th>Ca</th>\n",
        "      <th>pH</th>\n",
        "    </tr>\n",
        "  </thead>\n",
        "  <tbody>\n",
        "    <tr>\n",
        "      <th>09gt9UK5</th>\n",
        "      <td>-0.067700</td>\n",
        "      <td> 0.091695</td>\n",
        "      <td> 0.113070</td>\n",
        "      <td> 0.455232</td>\n",
        "      <td> 0.341457</td>\n",
        "    </tr>\n",
        "    <tr>\n",
        "      <th>0BVvxJ6a</th>\n",
        "      <td>-0.128153</td>\n",
        "      <td> 0.061688</td>\n",
        "      <td>-0.087438</td>\n",
        "      <td> 0.317603</td>\n",
        "      <td> 0.265155</td>\n",
        "    </tr>\n",
        "    <tr>\n",
        "      <th>0KbdgApg</th>\n",
        "      <td>-0.036251</td>\n",
        "      <td> 0.112700</td>\n",
        "      <td>-0.006979</td>\n",
        "      <td> 0.542985</td>\n",
        "      <td> 0.324673</td>\n",
        "    </tr>\n",
        "    <tr>\n",
        "      <th>0MnuuduB</th>\n",
        "      <td>-0.594602</td>\n",
        "      <td> 0.140941</td>\n",
        "      <td> 0.468614</td>\n",
        "      <td> 0.502308</td>\n",
        "      <td> 0.079780</td>\n",
        "    </tr>\n",
        "    <tr>\n",
        "      <th>0PcIsF9z</th>\n",
        "      <td> 0.275099</td>\n",
        "      <td>-0.095053</td>\n",
        "      <td>-0.141430</td>\n",
        "      <td>-0.724715</td>\n",
        "      <td>-0.628296</td>\n",
        "    </tr>\n",
        "  </tbody>\n",
        "</table>\n",
        "<p>5 rows \u00d7 5 columns</p>\n",
        "</div>"
       ],
       "metadata": {},
       "output_type": "pyout",
       "prompt_number": 21,
       "text": [
        "              Sand         P       SOC        Ca        pH\n",
        "09gt9UK5 -0.067700  0.091695  0.113070  0.455232  0.341457\n",
        "0BVvxJ6a -0.128153  0.061688 -0.087438  0.317603  0.265155\n",
        "0KbdgApg -0.036251  0.112700 -0.006979  0.542985  0.324673\n",
        "0MnuuduB -0.594602  0.140941  0.468614  0.502308  0.079780\n",
        "0PcIsF9z  0.275099 -0.095053 -0.141430 -0.724715 -0.628296\n",
        "\n",
        "[5 rows x 5 columns]"
       ]
      }
     ],
     "prompt_number": 21
    },
    {
     "cell_type": "code",
     "collapsed": false,
     "input": [],
     "language": "python",
     "metadata": {},
     "outputs": []
    }
   ],
   "metadata": {}
  }
 ]
}